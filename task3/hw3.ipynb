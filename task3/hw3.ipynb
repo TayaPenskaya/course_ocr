{
  "nbformat": 4,
  "nbformat_minor": 0,
  "metadata": {
    "colab": {
      "name": "hw3.ipynb",
      "provenance": [],
      "machine_shape": "hm"
    },
    "kernelspec": {
      "name": "python3",
      "display_name": "Python 3"
    },
    "language_info": {
      "name": "python"
    },
    "accelerator": "GPU",
    "widgets": {
      "application/vnd.jupyter.widget-state+json": {
        "021997c2dffe4df0b43adb0938bcc1c0": {
          "model_module": "@jupyter-widgets/controls",
          "model_name": "HBoxModel",
          "model_module_version": "1.5.0",
          "state": {
            "_dom_classes": [],
            "_model_module": "@jupyter-widgets/controls",
            "_model_module_version": "1.5.0",
            "_model_name": "HBoxModel",
            "_view_count": null,
            "_view_module": "@jupyter-widgets/controls",
            "_view_module_version": "1.5.0",
            "_view_name": "HBoxView",
            "box_style": "",
            "children": [
              "IPY_MODEL_c42615fc97944fd29607846aa132c494",
              "IPY_MODEL_5f6baa54196b4f5bb6a9d2ada2704d17",
              "IPY_MODEL_4c70901809e74c06bf59d76516b27700"
            ],
            "layout": "IPY_MODEL_d91456be5485474197d4292fdf837c48"
          }
        },
        "c42615fc97944fd29607846aa132c494": {
          "model_module": "@jupyter-widgets/controls",
          "model_name": "HTMLModel",
          "model_module_version": "1.5.0",
          "state": {
            "_dom_classes": [],
            "_model_module": "@jupyter-widgets/controls",
            "_model_module_version": "1.5.0",
            "_model_name": "HTMLModel",
            "_view_count": null,
            "_view_module": "@jupyter-widgets/controls",
            "_view_module_version": "1.5.0",
            "_view_name": "HTMLView",
            "description": "",
            "description_tooltip": null,
            "layout": "IPY_MODEL_58df0910cd794f9e9f1c2211c7496230",
            "placeholder": "​",
            "style": "IPY_MODEL_c5a563a45bfe4ecebb6b7d7e6d6398c9",
            "value": "100%"
          }
        },
        "5f6baa54196b4f5bb6a9d2ada2704d17": {
          "model_module": "@jupyter-widgets/controls",
          "model_name": "FloatProgressModel",
          "model_module_version": "1.5.0",
          "state": {
            "_dom_classes": [],
            "_model_module": "@jupyter-widgets/controls",
            "_model_module_version": "1.5.0",
            "_model_name": "FloatProgressModel",
            "_view_count": null,
            "_view_module": "@jupyter-widgets/controls",
            "_view_module_version": "1.5.0",
            "_view_name": "ProgressView",
            "bar_style": "success",
            "description": "",
            "description_tooltip": null,
            "layout": "IPY_MODEL_c10549f533f749c5b7a7ff0bfdabd6da",
            "max": 2026,
            "min": 0,
            "orientation": "horizontal",
            "style": "IPY_MODEL_18df39bdf18b4d319ddc4509f809cb20",
            "value": 2026
          }
        },
        "4c70901809e74c06bf59d76516b27700": {
          "model_module": "@jupyter-widgets/controls",
          "model_name": "HTMLModel",
          "model_module_version": "1.5.0",
          "state": {
            "_dom_classes": [],
            "_model_module": "@jupyter-widgets/controls",
            "_model_module_version": "1.5.0",
            "_model_name": "HTMLModel",
            "_view_count": null,
            "_view_module": "@jupyter-widgets/controls",
            "_view_module_version": "1.5.0",
            "_view_name": "HTMLView",
            "description": "",
            "description_tooltip": null,
            "layout": "IPY_MODEL_fc7a4d0dba7c4819b90756807825b3ac",
            "placeholder": "​",
            "style": "IPY_MODEL_8e0a84e20ea44e108d190fe76e35cb87",
            "value": " 2026/2026 [04:37&lt;00:00,  2.36it/s]"
          }
        },
        "d91456be5485474197d4292fdf837c48": {
          "model_module": "@jupyter-widgets/base",
          "model_name": "LayoutModel",
          "model_module_version": "1.2.0",
          "state": {
            "_model_module": "@jupyter-widgets/base",
            "_model_module_version": "1.2.0",
            "_model_name": "LayoutModel",
            "_view_count": null,
            "_view_module": "@jupyter-widgets/base",
            "_view_module_version": "1.2.0",
            "_view_name": "LayoutView",
            "align_content": null,
            "align_items": null,
            "align_self": null,
            "border": null,
            "bottom": null,
            "display": null,
            "flex": null,
            "flex_flow": null,
            "grid_area": null,
            "grid_auto_columns": null,
            "grid_auto_flow": null,
            "grid_auto_rows": null,
            "grid_column": null,
            "grid_gap": null,
            "grid_row": null,
            "grid_template_areas": null,
            "grid_template_columns": null,
            "grid_template_rows": null,
            "height": null,
            "justify_content": null,
            "justify_items": null,
            "left": null,
            "margin": null,
            "max_height": null,
            "max_width": null,
            "min_height": null,
            "min_width": null,
            "object_fit": null,
            "object_position": null,
            "order": null,
            "overflow": null,
            "overflow_x": null,
            "overflow_y": null,
            "padding": null,
            "right": null,
            "top": null,
            "visibility": null,
            "width": null
          }
        },
        "58df0910cd794f9e9f1c2211c7496230": {
          "model_module": "@jupyter-widgets/base",
          "model_name": "LayoutModel",
          "model_module_version": "1.2.0",
          "state": {
            "_model_module": "@jupyter-widgets/base",
            "_model_module_version": "1.2.0",
            "_model_name": "LayoutModel",
            "_view_count": null,
            "_view_module": "@jupyter-widgets/base",
            "_view_module_version": "1.2.0",
            "_view_name": "LayoutView",
            "align_content": null,
            "align_items": null,
            "align_self": null,
            "border": null,
            "bottom": null,
            "display": null,
            "flex": null,
            "flex_flow": null,
            "grid_area": null,
            "grid_auto_columns": null,
            "grid_auto_flow": null,
            "grid_auto_rows": null,
            "grid_column": null,
            "grid_gap": null,
            "grid_row": null,
            "grid_template_areas": null,
            "grid_template_columns": null,
            "grid_template_rows": null,
            "height": null,
            "justify_content": null,
            "justify_items": null,
            "left": null,
            "margin": null,
            "max_height": null,
            "max_width": null,
            "min_height": null,
            "min_width": null,
            "object_fit": null,
            "object_position": null,
            "order": null,
            "overflow": null,
            "overflow_x": null,
            "overflow_y": null,
            "padding": null,
            "right": null,
            "top": null,
            "visibility": null,
            "width": null
          }
        },
        "c5a563a45bfe4ecebb6b7d7e6d6398c9": {
          "model_module": "@jupyter-widgets/controls",
          "model_name": "DescriptionStyleModel",
          "model_module_version": "1.5.0",
          "state": {
            "_model_module": "@jupyter-widgets/controls",
            "_model_module_version": "1.5.0",
            "_model_name": "DescriptionStyleModel",
            "_view_count": null,
            "_view_module": "@jupyter-widgets/base",
            "_view_module_version": "1.2.0",
            "_view_name": "StyleView",
            "description_width": ""
          }
        },
        "c10549f533f749c5b7a7ff0bfdabd6da": {
          "model_module": "@jupyter-widgets/base",
          "model_name": "LayoutModel",
          "model_module_version": "1.2.0",
          "state": {
            "_model_module": "@jupyter-widgets/base",
            "_model_module_version": "1.2.0",
            "_model_name": "LayoutModel",
            "_view_count": null,
            "_view_module": "@jupyter-widgets/base",
            "_view_module_version": "1.2.0",
            "_view_name": "LayoutView",
            "align_content": null,
            "align_items": null,
            "align_self": null,
            "border": null,
            "bottom": null,
            "display": null,
            "flex": null,
            "flex_flow": null,
            "grid_area": null,
            "grid_auto_columns": null,
            "grid_auto_flow": null,
            "grid_auto_rows": null,
            "grid_column": null,
            "grid_gap": null,
            "grid_row": null,
            "grid_template_areas": null,
            "grid_template_columns": null,
            "grid_template_rows": null,
            "height": null,
            "justify_content": null,
            "justify_items": null,
            "left": null,
            "margin": null,
            "max_height": null,
            "max_width": null,
            "min_height": null,
            "min_width": null,
            "object_fit": null,
            "object_position": null,
            "order": null,
            "overflow": null,
            "overflow_x": null,
            "overflow_y": null,
            "padding": null,
            "right": null,
            "top": null,
            "visibility": null,
            "width": null
          }
        },
        "18df39bdf18b4d319ddc4509f809cb20": {
          "model_module": "@jupyter-widgets/controls",
          "model_name": "ProgressStyleModel",
          "model_module_version": "1.5.0",
          "state": {
            "_model_module": "@jupyter-widgets/controls",
            "_model_module_version": "1.5.0",
            "_model_name": "ProgressStyleModel",
            "_view_count": null,
            "_view_module": "@jupyter-widgets/base",
            "_view_module_version": "1.2.0",
            "_view_name": "StyleView",
            "bar_color": null,
            "description_width": ""
          }
        },
        "fc7a4d0dba7c4819b90756807825b3ac": {
          "model_module": "@jupyter-widgets/base",
          "model_name": "LayoutModel",
          "model_module_version": "1.2.0",
          "state": {
            "_model_module": "@jupyter-widgets/base",
            "_model_module_version": "1.2.0",
            "_model_name": "LayoutModel",
            "_view_count": null,
            "_view_module": "@jupyter-widgets/base",
            "_view_module_version": "1.2.0",
            "_view_name": "LayoutView",
            "align_content": null,
            "align_items": null,
            "align_self": null,
            "border": null,
            "bottom": null,
            "display": null,
            "flex": null,
            "flex_flow": null,
            "grid_area": null,
            "grid_auto_columns": null,
            "grid_auto_flow": null,
            "grid_auto_rows": null,
            "grid_column": null,
            "grid_gap": null,
            "grid_row": null,
            "grid_template_areas": null,
            "grid_template_columns": null,
            "grid_template_rows": null,
            "height": null,
            "justify_content": null,
            "justify_items": null,
            "left": null,
            "margin": null,
            "max_height": null,
            "max_width": null,
            "min_height": null,
            "min_width": null,
            "object_fit": null,
            "object_position": null,
            "order": null,
            "overflow": null,
            "overflow_x": null,
            "overflow_y": null,
            "padding": null,
            "right": null,
            "top": null,
            "visibility": null,
            "width": null
          }
        },
        "8e0a84e20ea44e108d190fe76e35cb87": {
          "model_module": "@jupyter-widgets/controls",
          "model_name": "DescriptionStyleModel",
          "model_module_version": "1.5.0",
          "state": {
            "_model_module": "@jupyter-widgets/controls",
            "_model_module_version": "1.5.0",
            "_model_name": "DescriptionStyleModel",
            "_view_count": null,
            "_view_module": "@jupyter-widgets/base",
            "_view_module_version": "1.2.0",
            "_view_name": "StyleView",
            "description_width": ""
          }
        },
        "0ee902748abe40dcae38d7bfbfd52e2e": {
          "model_module": "@jupyter-widgets/controls",
          "model_name": "HBoxModel",
          "model_module_version": "1.5.0",
          "state": {
            "_dom_classes": [],
            "_model_module": "@jupyter-widgets/controls",
            "_model_module_version": "1.5.0",
            "_model_name": "HBoxModel",
            "_view_count": null,
            "_view_module": "@jupyter-widgets/controls",
            "_view_module_version": "1.5.0",
            "_view_name": "HBoxView",
            "box_style": "",
            "children": [
              "IPY_MODEL_94a68e2c3c4b4d17bc4d6305cc1c4973",
              "IPY_MODEL_76a77e25a512459e8056cd68a9b2ece5",
              "IPY_MODEL_9bfdbb83a6d24dcfa4be94a55bc68539"
            ],
            "layout": "IPY_MODEL_455ae6a9a3324811b8d7ff07159283da"
          }
        },
        "94a68e2c3c4b4d17bc4d6305cc1c4973": {
          "model_module": "@jupyter-widgets/controls",
          "model_name": "HTMLModel",
          "model_module_version": "1.5.0",
          "state": {
            "_dom_classes": [],
            "_model_module": "@jupyter-widgets/controls",
            "_model_module_version": "1.5.0",
            "_model_name": "HTMLModel",
            "_view_count": null,
            "_view_module": "@jupyter-widgets/controls",
            "_view_module_version": "1.5.0",
            "_view_name": "HTMLView",
            "description": "",
            "description_tooltip": null,
            "layout": "IPY_MODEL_69cd7fb7a1464e8794454ea65972b753",
            "placeholder": "​",
            "style": "IPY_MODEL_de160e66020641cfa4f846c499211305",
            "value": "100%"
          }
        },
        "76a77e25a512459e8056cd68a9b2ece5": {
          "model_module": "@jupyter-widgets/controls",
          "model_name": "FloatProgressModel",
          "model_module_version": "1.5.0",
          "state": {
            "_dom_classes": [],
            "_model_module": "@jupyter-widgets/controls",
            "_model_module_version": "1.5.0",
            "_model_name": "FloatProgressModel",
            "_view_count": null,
            "_view_module": "@jupyter-widgets/controls",
            "_view_module_version": "1.5.0",
            "_view_name": "ProgressView",
            "bar_style": "success",
            "description": "",
            "description_tooltip": null,
            "layout": "IPY_MODEL_535546d00f2a4c3ea7380601fada4da6",
            "max": 99,
            "min": 0,
            "orientation": "horizontal",
            "style": "IPY_MODEL_c63dab79409344c6b1232ea54980ce08",
            "value": 99
          }
        },
        "9bfdbb83a6d24dcfa4be94a55bc68539": {
          "model_module": "@jupyter-widgets/controls",
          "model_name": "HTMLModel",
          "model_module_version": "1.5.0",
          "state": {
            "_dom_classes": [],
            "_model_module": "@jupyter-widgets/controls",
            "_model_module_version": "1.5.0",
            "_model_name": "HTMLModel",
            "_view_count": null,
            "_view_module": "@jupyter-widgets/controls",
            "_view_module_version": "1.5.0",
            "_view_name": "HTMLView",
            "description": "",
            "description_tooltip": null,
            "layout": "IPY_MODEL_dbad004edd9d43c09d2bffa9d30e333d",
            "placeholder": "​",
            "style": "IPY_MODEL_515802c131e44f0bb017004ebbded13f",
            "value": " 99/99 [00:05&lt;00:00, 17.20it/s]"
          }
        },
        "455ae6a9a3324811b8d7ff07159283da": {
          "model_module": "@jupyter-widgets/base",
          "model_name": "LayoutModel",
          "model_module_version": "1.2.0",
          "state": {
            "_model_module": "@jupyter-widgets/base",
            "_model_module_version": "1.2.0",
            "_model_name": "LayoutModel",
            "_view_count": null,
            "_view_module": "@jupyter-widgets/base",
            "_view_module_version": "1.2.0",
            "_view_name": "LayoutView",
            "align_content": null,
            "align_items": null,
            "align_self": null,
            "border": null,
            "bottom": null,
            "display": null,
            "flex": null,
            "flex_flow": null,
            "grid_area": null,
            "grid_auto_columns": null,
            "grid_auto_flow": null,
            "grid_auto_rows": null,
            "grid_column": null,
            "grid_gap": null,
            "grid_row": null,
            "grid_template_areas": null,
            "grid_template_columns": null,
            "grid_template_rows": null,
            "height": null,
            "justify_content": null,
            "justify_items": null,
            "left": null,
            "margin": null,
            "max_height": null,
            "max_width": null,
            "min_height": null,
            "min_width": null,
            "object_fit": null,
            "object_position": null,
            "order": null,
            "overflow": null,
            "overflow_x": null,
            "overflow_y": null,
            "padding": null,
            "right": null,
            "top": null,
            "visibility": null,
            "width": null
          }
        },
        "69cd7fb7a1464e8794454ea65972b753": {
          "model_module": "@jupyter-widgets/base",
          "model_name": "LayoutModel",
          "model_module_version": "1.2.0",
          "state": {
            "_model_module": "@jupyter-widgets/base",
            "_model_module_version": "1.2.0",
            "_model_name": "LayoutModel",
            "_view_count": null,
            "_view_module": "@jupyter-widgets/base",
            "_view_module_version": "1.2.0",
            "_view_name": "LayoutView",
            "align_content": null,
            "align_items": null,
            "align_self": null,
            "border": null,
            "bottom": null,
            "display": null,
            "flex": null,
            "flex_flow": null,
            "grid_area": null,
            "grid_auto_columns": null,
            "grid_auto_flow": null,
            "grid_auto_rows": null,
            "grid_column": null,
            "grid_gap": null,
            "grid_row": null,
            "grid_template_areas": null,
            "grid_template_columns": null,
            "grid_template_rows": null,
            "height": null,
            "justify_content": null,
            "justify_items": null,
            "left": null,
            "margin": null,
            "max_height": null,
            "max_width": null,
            "min_height": null,
            "min_width": null,
            "object_fit": null,
            "object_position": null,
            "order": null,
            "overflow": null,
            "overflow_x": null,
            "overflow_y": null,
            "padding": null,
            "right": null,
            "top": null,
            "visibility": null,
            "width": null
          }
        },
        "de160e66020641cfa4f846c499211305": {
          "model_module": "@jupyter-widgets/controls",
          "model_name": "DescriptionStyleModel",
          "model_module_version": "1.5.0",
          "state": {
            "_model_module": "@jupyter-widgets/controls",
            "_model_module_version": "1.5.0",
            "_model_name": "DescriptionStyleModel",
            "_view_count": null,
            "_view_module": "@jupyter-widgets/base",
            "_view_module_version": "1.2.0",
            "_view_name": "StyleView",
            "description_width": ""
          }
        },
        "535546d00f2a4c3ea7380601fada4da6": {
          "model_module": "@jupyter-widgets/base",
          "model_name": "LayoutModel",
          "model_module_version": "1.2.0",
          "state": {
            "_model_module": "@jupyter-widgets/base",
            "_model_module_version": "1.2.0",
            "_model_name": "LayoutModel",
            "_view_count": null,
            "_view_module": "@jupyter-widgets/base",
            "_view_module_version": "1.2.0",
            "_view_name": "LayoutView",
            "align_content": null,
            "align_items": null,
            "align_self": null,
            "border": null,
            "bottom": null,
            "display": null,
            "flex": null,
            "flex_flow": null,
            "grid_area": null,
            "grid_auto_columns": null,
            "grid_auto_flow": null,
            "grid_auto_rows": null,
            "grid_column": null,
            "grid_gap": null,
            "grid_row": null,
            "grid_template_areas": null,
            "grid_template_columns": null,
            "grid_template_rows": null,
            "height": null,
            "justify_content": null,
            "justify_items": null,
            "left": null,
            "margin": null,
            "max_height": null,
            "max_width": null,
            "min_height": null,
            "min_width": null,
            "object_fit": null,
            "object_position": null,
            "order": null,
            "overflow": null,
            "overflow_x": null,
            "overflow_y": null,
            "padding": null,
            "right": null,
            "top": null,
            "visibility": null,
            "width": null
          }
        },
        "c63dab79409344c6b1232ea54980ce08": {
          "model_module": "@jupyter-widgets/controls",
          "model_name": "ProgressStyleModel",
          "model_module_version": "1.5.0",
          "state": {
            "_model_module": "@jupyter-widgets/controls",
            "_model_module_version": "1.5.0",
            "_model_name": "ProgressStyleModel",
            "_view_count": null,
            "_view_module": "@jupyter-widgets/base",
            "_view_module_version": "1.2.0",
            "_view_name": "StyleView",
            "bar_color": null,
            "description_width": ""
          }
        },
        "dbad004edd9d43c09d2bffa9d30e333d": {
          "model_module": "@jupyter-widgets/base",
          "model_name": "LayoutModel",
          "model_module_version": "1.2.0",
          "state": {
            "_model_module": "@jupyter-widgets/base",
            "_model_module_version": "1.2.0",
            "_model_name": "LayoutModel",
            "_view_count": null,
            "_view_module": "@jupyter-widgets/base",
            "_view_module_version": "1.2.0",
            "_view_name": "LayoutView",
            "align_content": null,
            "align_items": null,
            "align_self": null,
            "border": null,
            "bottom": null,
            "display": null,
            "flex": null,
            "flex_flow": null,
            "grid_area": null,
            "grid_auto_columns": null,
            "grid_auto_flow": null,
            "grid_auto_rows": null,
            "grid_column": null,
            "grid_gap": null,
            "grid_row": null,
            "grid_template_areas": null,
            "grid_template_columns": null,
            "grid_template_rows": null,
            "height": null,
            "justify_content": null,
            "justify_items": null,
            "left": null,
            "margin": null,
            "max_height": null,
            "max_width": null,
            "min_height": null,
            "min_width": null,
            "object_fit": null,
            "object_position": null,
            "order": null,
            "overflow": null,
            "overflow_x": null,
            "overflow_y": null,
            "padding": null,
            "right": null,
            "top": null,
            "visibility": null,
            "width": null
          }
        },
        "515802c131e44f0bb017004ebbded13f": {
          "model_module": "@jupyter-widgets/controls",
          "model_name": "DescriptionStyleModel",
          "model_module_version": "1.5.0",
          "state": {
            "_model_module": "@jupyter-widgets/controls",
            "_model_module_version": "1.5.0",
            "_model_name": "DescriptionStyleModel",
            "_view_count": null,
            "_view_module": "@jupyter-widgets/base",
            "_view_module_version": "1.2.0",
            "_view_name": "StyleView",
            "description_width": ""
          }
        }
      }
    }
  },
  "cells": [
    {
      "cell_type": "code",
      "execution_count": null,
      "metadata": {
        "id": "I7U8K_AHlFXP"
      },
      "outputs": [],
      "source": [
        "from google.colab import drive\n",
        "drive.mount('/content/drive', force_remount=True)"
      ]
    },
    {
      "cell_type": "code",
      "source": [
        "% cd /content/drive/MyDrive/MIPT/ocr/course_ocr/task3"
      ],
      "metadata": {
        "id": "6FzpjS1mlJny"
      },
      "execution_count": null,
      "outputs": []
    },
    {
      "cell_type": "code",
      "source": [
        "! pip install -e .\n",
        "! pip install wandb\n",
        "! pip install pytorch-lightning\n",
        "! pip install opencv-python\n",
        "! pip install opencv-contrib-python"
      ],
      "metadata": {
        "id": "XWcbYc0tlJta"
      },
      "execution_count": null,
      "outputs": []
    },
    {
      "cell_type": "code",
      "source": [
        "from course_ocr_t3.evaluate import read_file, calculate_detection_result, calculate_accuracy\n",
        "\n",
        "import os\n",
        "import yaml\n",
        "import json\n",
        "import math\n",
        "import subprocess\n",
        "from subprocess import TimeoutExpired\n",
        "from collections import OrderedDict\n",
        "from time import time\n",
        "from pathlib import Path\n",
        "\n",
        "import cv2\n",
        "import imutils\n",
        "import numpy as np\n",
        "import pandas as pd\n",
        "from PIL import Image\n",
        "from tqdm.notebook import tqdm\n",
        "import matplotlib.cm as cm\n",
        "import matplotlib.pyplot as plt\n",
        "from itertools import product\n",
        "\n",
        "import torch\n",
        "import torch.nn as nn\n",
        "import torch.optim as optim\n",
        "import torch.nn.functional as F\n",
        "from torch.utils.data import Dataset, DataLoader, random_split, ConcatDataset\n",
        "\n",
        "import torchvision\n",
        "import torchvision.utils as vutils\n",
        "from torchvision import transforms as VT\n",
        "\n",
        "from torchvision.models.detection.faster_rcnn import FastRCNNPredictor\n",
        "from torchvision.models.detection.mask_rcnn import MaskRCNNPredictor\n",
        "from torchvision.models.detection import maskrcnn_resnet50_fpn\n",
        "from torchvision.models.detection import FasterRCNN\n",
        "from torchvision.models.detection.rpn import AnchorGenerator\n",
        "\n",
        "device = torch.device(\"cuda\" if torch.cuda.is_available() else \"cpu\")"
      ],
      "metadata": {
        "id": "m_cx0aNIlJyk"
      },
      "execution_count": 5,
      "outputs": []
    },
    {
      "cell_type": "code",
      "source": [
        "import pytorch_lightning as pl\n",
        "import wandb\n",
        "wandb.login()\n",
        "\n",
        "from pytorch_lightning.loggers import WandbLogger\n",
        "from pytorch_lightning import Trainer"
      ],
      "metadata": {
        "colab": {
          "base_uri": "https://localhost:8080/"
        },
        "id": "3QzKuB0BlJ27",
        "outputId": "d20954fd-b74e-437e-9574-fa280cbf1127"
      },
      "execution_count": 6,
      "outputs": [
        {
          "output_type": "stream",
          "name": "stderr",
          "text": [
            "\u001b[34m\u001b[1mwandb\u001b[0m: W&B API key is configured. Use \u001b[1m`wandb login --relogin`\u001b[0m to force relogin\n"
          ]
        }
      ]
    },
    {
      "cell_type": "markdown",
      "source": [
        "## Data preparation"
      ],
      "metadata": {
        "id": "jd6TOamVlJ7S"
      }
    },
    {
      "cell_type": "code",
      "source": [
        "TRAIN_PATH = '/content/drive/MyDrive/MIPT/ocr/course_ocr/task3/data/train/Images'\n",
        "train_filenames = os.listdir(TRAIN_PATH)\n",
        "train_filenames = list(map(lambda x: os.path.join(TRAIN_PATH, x), train_filenames))\n",
        "\n",
        "markup_train = read_file(os.path.join('/content/drive/MyDrive/MIPT/ocr/course_ocr/task3/', 'markup_train.csv'))"
      ],
      "metadata": {
        "id": "hZUuNku-vTEW"
      },
      "execution_count": 57,
      "outputs": []
    },
    {
      "cell_type": "code",
      "source": [
        "TEST_PATH = '/content/drive/MyDrive/MIPT/ocr/course_ocr/task3/data/test'\n",
        "test_filenames = os.listdir(TEST_PATH)\n",
        "test_filenames = list(map(lambda x: os.path.join(TEST_PATH, x), test_filenames))\n",
        "\n",
        "markup_test = read_file(os.path.join('/content/drive/MyDrive/MIPT/ocr/course_ocr/task3/', 'markup.csv'))\n",
        "markup_ans = read_file(os.path.join('/content/drive/MyDrive/MIPT/ocr/course_ocr/task3/', 'answer.csv'))"
      ],
      "metadata": {
        "id": "rIUJyY4KqkUe"
      },
      "execution_count": 7,
      "outputs": []
    },
    {
      "cell_type": "code",
      "source": [
        "class BBDataset(Dataset):\n",
        "    def __init__(self, filenames, markup, test=False):\n",
        "        self.data = []\n",
        "        transform = VT.Compose([\n",
        "            VT.Resize((160, 160), VT.InterpolationMode.BICUBIC),\n",
        "            VT.ToTensor(),\n",
        "        ])\n",
        "\n",
        "        for i in tqdm(range(len(filenames))):\n",
        "            if filenames[i].split('/')[-1] in markup:\n",
        "                img = cv2.imread(filenames[i])\n",
        "                h, w, c = img.shape\n",
        "                img = cv2.adaptiveThreshold(cv2.cvtColor(img, cv2.COLOR_BGR2GRAY), 255, cv2.ADAPTIVE_THRESH_MEAN_C, cv2.THRESH_BINARY, 21, 11)\n",
        "                img = np.repeat(img[..., np.newaxis], 3, -1)\n",
        "                img = Image.fromarray(img)\n",
        "                resized_img = transform(img)\n",
        "\n",
        "                points = markup[filenames[i].split('/')[-1]][1]\n",
        "                resized_points = np.array(list(map(lambda x: ((160 * x[0] / w), (160 * x[1] /  h)), points)), dtype=np.int32)\n",
        "\n",
        "                mask = np.zeros((160, 160), dtype=np.uint8)\n",
        "                cv2.fillPoly(mask, resized_points.reshape(-1, 4, 2), 1)\n",
        "                mask = torch.from_numpy(np.array(mask))\n",
        "\n",
        "                x_min = min(resized_points[:, 0])\n",
        "                x_max = max(resized_points[:, 0])\n",
        "                y_min = min(resized_points[:, 1])\n",
        "                y_max = max(resized_points[:, 1])\n",
        "                box = [x_min, y_min, x_max, y_max]\n",
        "                area = (box[2] - box[0]) * (box[3] - box[1])\n",
        "\n",
        "                target = {\n",
        "                    'boxes': torch.as_tensor([box], dtype=torch.float32), \n",
        "                    'area': torch.as_tensor([area], dtype=torch.float32),\n",
        "                    'masks': mask.unsqueeze(0),\n",
        "                    'labels': torch.as_tensor([1], dtype=torch.int64),\n",
        "                    'iscrowd': torch.as_tensor([0], dtype=torch.int64),\n",
        "                    'image_id': torch.as_tensor([i])\n",
        "                }\n",
        "\n",
        "                if not test:\n",
        "                    self.data.append((resized_img.float(), target))\n",
        "                else:\n",
        "                    self.data.append((resized_img.float(), filenames[i].split('/')[-1], h, w))\n",
        "\n",
        "    def __getitem__(self, index):\n",
        "        return self.data[index]\n",
        "\n",
        "    def __len__(self):\n",
        "        return len(self.data)"
      ],
      "metadata": {
        "id": "rrNQ3-e0lYeY"
      },
      "execution_count": 8,
      "outputs": []
    },
    {
      "cell_type": "code",
      "source": [
        "train_dataset = BBDataset(train_filenames, markup_train)\n",
        "# test_dataset = BBDataset(test_filenames, markup_test, True)"
      ],
      "metadata": {
        "colab": {
          "base_uri": "https://localhost:8080/",
          "height": 49,
          "referenced_widgets": [
            "021997c2dffe4df0b43adb0938bcc1c0",
            "c42615fc97944fd29607846aa132c494",
            "5f6baa54196b4f5bb6a9d2ada2704d17",
            "4c70901809e74c06bf59d76516b27700",
            "d91456be5485474197d4292fdf837c48",
            "58df0910cd794f9e9f1c2211c7496230",
            "c5a563a45bfe4ecebb6b7d7e6d6398c9",
            "c10549f533f749c5b7a7ff0bfdabd6da",
            "18df39bdf18b4d319ddc4509f809cb20",
            "fc7a4d0dba7c4819b90756807825b3ac",
            "8e0a84e20ea44e108d190fe76e35cb87"
          ]
        },
        "id": "TRNKQgr-lYja",
        "outputId": "579640ad-bd1d-418f-e993-e2754161fa18"
      },
      "execution_count": 60,
      "outputs": [
        {
          "output_type": "display_data",
          "data": {
            "text/plain": [
              "  0%|          | 0/2026 [00:00<?, ?it/s]"
            ],
            "application/vnd.jupyter.widget-view+json": {
              "version_major": 2,
              "version_minor": 0,
              "model_id": "021997c2dffe4df0b43adb0938bcc1c0"
            }
          },
          "metadata": {}
        }
      ]
    },
    {
      "cell_type": "code",
      "source": [
        "torch.save(train_dataset, '/content/drive/MyDrive/MIPT/ocr/course_ocr/task3/data/train_dataset.pt')\n",
        "# torch.save(test_dataset, '/content/drive/MyDrive/MIPT/ocr/course_ocr/task3/data/test_dataset.pt')"
      ],
      "metadata": {
        "id": "p4B_7PL82w7-"
      },
      "execution_count": 61,
      "outputs": []
    },
    {
      "cell_type": "code",
      "source": [
        "# train_dataset = torch.load('/content/drive/MyDrive/MIPT/ocr/course_ocr/task3/data/train_dataset.pt')\n",
        "test_dataset = torch.load('/content/drive/MyDrive/MIPT/ocr/course_ocr/task3/data/test_dataset.pt')"
      ],
      "metadata": {
        "id": "ykS5wcwq3RRT"
      },
      "execution_count": 9,
      "outputs": []
    },
    {
      "cell_type": "code",
      "source": [
        "n = len(train_dataset)\n",
        "train_data, val_data = random_split(train_dataset, [int(0.9 * n), n - int(0.9 * n)])\n",
        "\n",
        "train_dataloader = DataLoader(train_data, batch_size=16, shuffle=True, num_workers=0)\n",
        "val_dataloader = DataLoader(val_data, batch_size=16, shuffle=True, num_workers=0)"
      ],
      "metadata": {
        "id": "r9r1VYmClYtN"
      },
      "execution_count": 62,
      "outputs": []
    },
    {
      "cell_type": "markdown",
      "source": [
        "## Model"
      ],
      "metadata": {
        "id": "igkZwHXHu4j3"
      }
    },
    {
      "cell_type": "code",
      "source": [
        "def get_iou(bb1, bb2):\n",
        "    # determine the coordinates of the intersection rectangle\n",
        "    x_left = max(bb1[0], bb2[0])\n",
        "    y_bottom = max(bb1[1], bb2[1])\n",
        "    x_right = min(bb1[2], bb2[2])\n",
        "    y_top = min(bb1[3], bb2[3])\n",
        "\n",
        "    # The intersection of two axis-aligned bounding boxes is always an\n",
        "    # axis-aligned bounding box\n",
        "    intersection_area = (x_right - x_left) * (y_top - y_bottom)\n",
        "\n",
        "    # compute the area of both AABBs\n",
        "    bb1_area = (bb1[2] - bb1[0]) * (bb1[3] - bb1[1])\n",
        "    bb2_area = (bb2[2] - bb2[0]) * (bb2[3] - bb2[1])\n",
        "\n",
        "    # compute the intersection over union by taking the intersection\n",
        "    # area and dividing it by the sum of prediction + ground-truth\n",
        "    # areas - the interesection area\n",
        "    iou = intersection_area / float(bb1_area + bb2_area - intersection_area)\n",
        "    return iou"
      ],
      "metadata": {
        "id": "8xVoIhEzu41L"
      },
      "execution_count": 63,
      "outputs": []
    },
    {
      "cell_type": "code",
      "source": [
        "class Detector(pl.LightningModule):\n",
        "    def __init__(self, num_classes=2, hidden_layer = 256):\n",
        "        super().__init__()\n",
        "        self.save_hyperparameters()\n",
        "\n",
        "        self.model = maskrcnn_resnet50_fpn(pretrained=True)\n",
        "        in_features = self.model.roi_heads.box_predictor.cls_score.in_features\n",
        "        self.model.roi_heads.box_predictor = FastRCNNPredictor(in_features, num_classes)\n",
        "        in_features_mask = self.model.roi_heads.mask_predictor.conv5_mask.in_channels\n",
        "        self.model.roi_heads.mask_predictor = MaskRCNNPredictor(in_features_mask, hidden_layer, num_classes)\n",
        "\n",
        "    def forward(self, x, *args, **kwargs):\n",
        "        return self.model(x)\n",
        "\n",
        "    def training_step(self, batch, batch_idx):\n",
        "        torch.cuda.empty_cache() \n",
        "        imgs, targets = batch \n",
        "        targets = [dict(zip(targets, v)) for v in zip(*targets.values())]\n",
        "        loss_dict = self.model(imgs, targets)\n",
        "        losses = sum(loss for loss in loss_dict.values())\n",
        "        self.log('loss_classifier', loss_dict['loss_classifier'].item(), on_step=True, on_epoch=True)\n",
        "        self.log('loss_box_reg', loss_dict['loss_box_reg'].item(), on_step=True, on_epoch=True)\n",
        "        self.log('loss_mask', loss_dict['loss_mask'].item(), on_step=True, on_epoch=True)\n",
        "        self.log('loss_objectness', loss_dict['loss_objectness'].item(), on_step=True, on_epoch=True)\n",
        "        self.log('loss_rpn_box_reg', loss_dict['loss_rpn_box_reg'].item(), on_step=True, on_epoch=True)\n",
        "        self.log('loss', losses, on_step=True, on_epoch=True)\n",
        "        return losses\n",
        "\n",
        "    def validation_step(self, batch, batch_idx):\n",
        "        torch.cuda.empty_cache() \n",
        "        images, targets = batch\n",
        "        b, c, h, w = images.shape\n",
        "        targets = [dict(zip(targets, v)) for v in zip(*targets.values())]\n",
        "        outputs = self.model(images, targets)\n",
        "        iou = 0\n",
        "        for i in range(b):\n",
        "            target_box = targets[i]['boxes'][0].detach().cpu().numpy()\n",
        "            if len(outputs[i]['boxes'] > 0):\n",
        "                out_box = outputs[i]['boxes'][0].detach().cpu().numpy()\n",
        "                iou += get_iou(target_box, out_box)\n",
        "        iou /= b\n",
        "        self.log('iou', iou, on_step=True, on_epoch=True)\n",
        "        return iou\n",
        "\n",
        "    def configure_optimizers(self):\n",
        "        self.optimizer = torch.optim.Adam(self.parameters(), lr=1e-4)\n",
        "        # self.scheduler = torch.optim.lr_scheduler.StepLR(self.optimizer, step_size=3, gamma=0.1)\n",
        "        # lr_scheduler = {\"scheduler\": self.scheduler, \"interval\": \"step\"}\n",
        "        return {\n",
        "            \"optimizer\": self.optimizer,\n",
        "            # \"lr_scheduler\": lr_scheduler\n",
        "        }"
      ],
      "metadata": {
        "id": "hH_LYmmTvBx9"
      },
      "execution_count": 10,
      "outputs": []
    },
    {
      "cell_type": "code",
      "source": [
        "detector = Detector()\n",
        "\n",
        "wandb.finish()\n",
        "wandb_logger = WandbLogger(project=\"OCR_3\")\n",
        "# max_time=\"00:01:00:00\", \n",
        "trainer = Trainer(max_epochs=20, accelerator=\"gpu\", logger=wandb_logger)\n",
        "trainer.fit(model=detector, train_dataloaders=train_dataloader, val_dataloaders=val_dataloader)"
      ],
      "metadata": {
        "id": "QsAQuH05vB4S"
      },
      "execution_count": null,
      "outputs": []
    },
    {
      "cell_type": "markdown",
      "source": [
        "## Testing"
      ],
      "metadata": {
        "id": "LmtDvYlJ7KG2"
      }
    },
    {
      "cell_type": "code",
      "source": [
        "detector = Detector.load_from_checkpoint('/content/drive/MyDrive/MIPT/ocr/course_ocr/task3/d1.ckpt')\n",
        "detector.eval()\n",
        "detector = detector.to(device)\n",
        "\n",
        "with torch.no_grad():\n",
        "    imgs, filename, h, w = test_dataset[0]\n",
        "    outputs = detector(imgs.unsqueeze(0).to(device))\n",
        "\n",
        "if len(outputs[0]['masks']):\n",
        "    mask = (outputs[0]['masks'][0].squeeze(0).detach().cpu().numpy() * 255).astype('uint8')\n",
        "\n",
        "    fig, (ax1, ax2) = plt.subplots(1, 2, figsize=(5, 12))\n",
        "    ax1.imshow(imgs[0].detach().cpu().numpy(), cmap='gray')\n",
        "    ax1.axis('off')\n",
        "\n",
        "    _, mask = cv2.threshold(mask, 120, 255, cv2.THRESH_BINARY)\n",
        "    cnts, _ = cv2.findContours(mask.copy(), cv2.RETR_CCOMP, cv2.CHAIN_APPROX_SIMPLE)\n",
        "    c = max(cnts, key=cv2.contourArea)\n",
        "    cv2.drawContours(mask, [c], 0, (100,100,100), 2)\n",
        "    ax2.imshow(mask, cmap='gray')\n",
        "    plt.show()"
      ],
      "metadata": {
        "colab": {
          "base_uri": "https://localhost:8080/",
          "height": 178
        },
        "id": "7jL6iyHTvB-D",
        "outputId": "fcf61fa4-4719-4eb4-828c-4a9b67a9cef0"
      },
      "execution_count": 11,
      "outputs": [
        {
          "output_type": "display_data",
          "data": {
            "text/plain": [
              "<Figure size 360x864 with 2 Axes>"
            ],
            "image/png": "[encoded data removed]"
          },
          "metadata": {
            "needs_background": "light"
          }
        }
      ]
    },
    {
      "cell_type": "code",
      "source": [
        "ans = pd.DataFrame(columns=['name', 'code', 'x_0', 'y_0', 'x_1', 'y_1', 'x_2', 'y_2', 'x_3', 'y_3'])\n",
        "for i in tqdm(range(len(test_dataset))):\n",
        "    with torch.no_grad():\n",
        "        img, filename, h, w = test_dataset[i]\n",
        "        outputs = detector(img.unsqueeze(0).to(device))\n",
        "\n",
        "    if len(outputs[0]['masks']):\n",
        "        mask = (outputs[0]['masks'][0].squeeze(0).detach().cpu().numpy() * 255).astype('uint8')\n",
        "        _, mask = cv2.threshold(mask, 120, 255, cv2.THRESH_BINARY)\n",
        "        cnts = cv2.findContours(mask, cv2.RETR_EXTERNAL, cv2.CHAIN_APPROX_SIMPLE)\n",
        "        cnts = imutils.grab_contours(cnts)\n",
        "        if len(cnts) > 0:\n",
        "            c = max(cnts, key=cv2.contourArea)\n",
        "            left = list(map(int, c[c[:, :, 0].argmin()][0] * [w / 160, h / 160]))\n",
        "            right = list(map(int, c[c[:, :, 0].argmax()][0] * [w / 160, h / 160])) \n",
        "            top = list(map(int, c[c[:, :, 1].argmin()][0] * [w / 160, h / 160]))\n",
        "            bot = list(map(int, c[c[:, :, 1].argmax()][0] * [w / 160, h / 160]))\n",
        "\n",
        "        cur_row = {}\n",
        "        cur_row['name'] = filename\n",
        "        cur_row['code'] = 0\n",
        "        cur_row['x_0'] = left[0]\n",
        "        cur_row['y_0'] = left[1]\n",
        "        cur_row['x_1'] = top[0]\n",
        "        cur_row['y_1'] = top[1]\n",
        "        cur_row['x_2'] = right[0]\n",
        "        cur_row['y_2'] = right[1]\n",
        "        cur_row['x_3'] = bot[0] \n",
        "        cur_row['y_3'] = bot[1] \n",
        "        ans = ans.append(cur_row, ignore_index=True)"
      ],
      "metadata": {
        "colab": {
          "base_uri": "https://localhost:8080/",
          "height": 49,
          "referenced_widgets": [
            "0ee902748abe40dcae38d7bfbfd52e2e",
            "94a68e2c3c4b4d17bc4d6305cc1c4973",
            "76a77e25a512459e8056cd68a9b2ece5",
            "9bfdbb83a6d24dcfa4be94a55bc68539",
            "455ae6a9a3324811b8d7ff07159283da",
            "69cd7fb7a1464e8794454ea65972b753",
            "de160e66020641cfa4f846c499211305",
            "535546d00f2a4c3ea7380601fada4da6",
            "c63dab79409344c6b1232ea54980ce08",
            "dbad004edd9d43c09d2bffa9d30e333d",
            "515802c131e44f0bb017004ebbded13f"
          ]
        },
        "id": "SFVz8c6S6xeS",
        "outputId": "ceac0439-ad84-44c6-ea96-5f6e3e3d71d4"
      },
      "execution_count": 12,
      "outputs": [
        {
          "output_type": "display_data",
          "data": {
            "text/plain": [
              "  0%|          | 0/99 [00:00<?, ?it/s]"
            ],
            "application/vnd.jupyter.widget-view+json": {
              "version_major": 2,
              "version_minor": 0,
              "model_id": "0ee902748abe40dcae38d7bfbfd52e2e"
            }
          },
          "metadata": {}
        }
      ]
    },
    {
      "cell_type": "code",
      "source": [
        "ans.to_csv('answer.csv', sep=',', header=False, index=False, encoding='utf-16')"
      ],
      "metadata": {
        "id": "s5o7FER37HWX"
      },
      "execution_count": 13,
      "outputs": []
    },
    {
      "cell_type": "code",
      "source": [
        "markup_ans = read_file(os.path.join('/content/drive/MyDrive/MIPT/ocr/course_ocr/task3/', 'answer.csv'))\n",
        "\n",
        "detection_iou = calculate_detection_result(markup_test, markup_ans)\n",
        "print(\"detection_iou =\", detection_iou)"
      ],
      "metadata": {
        "colab": {
          "base_uri": "https://localhost:8080/"
        },
        "id": "q4CFQd9T7JAx",
        "outputId": "392cb008-0a56-4afc-de99-5cd0da56f969"
      },
      "execution_count": 14,
      "outputs": [
        {
          "output_type": "stream",
          "name": "stdout",
          "text": [
            "detection_iou = 0.7575757575757576\n"
          ]
        }
      ]
    }
  ]
}